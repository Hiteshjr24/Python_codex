{
  "nbformat": 4,
  "nbformat_minor": 0,
  "metadata": {
    "colab": {
      "provenance": []
    },
    "kernelspec": {
      "name": "python3",
      "display_name": "Python 3"
    },
    "language_info": {
      "name": "python"
    }
  },
  "cells": [
    {
      "cell_type": "code",
      "execution_count": 1,
      "metadata": {
        "colab": {
          "base_uri": "https://localhost:8080/"
        },
        "id": "Is0QIjlM4s3G",
        "outputId": "c6b8895d-4aa2-4a9b-cf60-a85c2225c768"
      },
      "outputs": [
        {
          "output_type": "stream",
          "name": "stdout",
          "text": [
            "\u001b[?25l     \u001b[90m━━━━━━━━━━━━━━━━━━━━━━━━━━━━━━━━━━━━━━━━\u001b[0m \u001b[32m0.0/137.4 kB\u001b[0m \u001b[31m?\u001b[0m eta \u001b[36m-:--:--\u001b[0m\r\u001b[2K     \u001b[91m━━━━━━━━━━━━━━━━━━━━━━━━━━━━━━━━\u001b[0m\u001b[91m╸\u001b[0m\u001b[90m━━━━━━━\u001b[0m \u001b[32m112.6/137.4 kB\u001b[0m \u001b[31m3.3 MB/s\u001b[0m eta \u001b[36m0:00:01\u001b[0m\r\u001b[2K     \u001b[90m━━━━━━━━━━━━━━━━━━━━━━━━━━━━━━━━━━━━━━━━\u001b[0m \u001b[32m137.4/137.4 kB\u001b[0m \u001b[31m2.6 MB/s\u001b[0m eta \u001b[36m0:00:00\u001b[0m\n",
            "\u001b[?25h"
          ]
        }
      ],
      "source": [
        "!pip install -q -U google-generativeai"
      ]
    },
    {
      "cell_type": "code",
      "source": [
        "import pathlib\n",
        "import textwrap\n",
        "\n",
        "import google.generativeai as genai\n",
        "\n",
        "from IPython.display import display\n",
        "from IPython.display import Markdown\n",
        "\n",
        "def to_markdown(text):\n",
        "  text = text.replace('•', '  *')\n",
        "  return Markdown(textwrap.indent(text, '> ', predicate=lambda _: True))"
      ],
      "metadata": {
        "id": "-dMCzp_u8c2E"
      },
      "execution_count": 2,
      "outputs": []
    },
    {
      "cell_type": "code",
      "source": [
        "genai.configure(api_key=\"--api key--\")"
      ],
      "metadata": {
        "id": "9odyXzOp76Lm"
      },
      "execution_count": 3,
      "outputs": []
    },
    {
      "cell_type": "code",
      "source": [
        "for m in genai.list_models():\n",
        "  if 'generateContent' in m.supported_generation_methods:\n",
        "    print(m.name)"
      ],
      "metadata": {
        "colab": {
          "base_uri": "https://localhost:8080/",
          "height": 119
        },
        "id": "N9AUArLJ774X",
        "outputId": "56411d28-fda1-477c-8f33-3d5f5cbf4928"
      },
      "execution_count": 4,
      "outputs": [
        {
          "output_type": "stream",
          "name": "stdout",
          "text": [
            "models/gemini-1.0-pro\n",
            "models/gemini-1.0-pro-001\n",
            "models/gemini-1.0-pro-latest\n",
            "models/gemini-1.0-pro-vision-latest\n",
            "models/gemini-pro\n",
            "models/gemini-pro-vision\n"
          ]
        }
      ]
    },
    {
      "cell_type": "code",
      "source": [
        "model = genai.GenerativeModel('gemini-pro')"
      ],
      "metadata": {
        "id": "wZcde7eu796I"
      },
      "execution_count": 5,
      "outputs": []
    },
    {
      "cell_type": "code",
      "source": [
        "question = '''\n",
        "generate a python code for the question given below :\n",
        "\n",
        "Question : Given nums, an array of integers, and target, find all the possible pairs of indices,where sum of numbers is equal to the target.\n",
        "Example: nums = [2, 7, 11, 15,3], target = 9\n",
        "Solution: [[1, 2],[3,4]] (nums[0] + nums[1] = 2 + 7 = 9)\n",
        "\n",
        "instructions\n",
        "1) the python code must be encapsulated in triple quotes\n",
        "2) include the example as a input to the function\n",
        "'''"
      ],
      "metadata": {
        "id": "URSdzHp69F9U"
      },
      "execution_count": 6,
      "outputs": []
    },
    {
      "cell_type": "code",
      "source": [
        "response = model.generate_content(question)"
      ],
      "metadata": {
        "id": "cdQG_xLN8ANL"
      },
      "execution_count": 7,
      "outputs": []
    },
    {
      "cell_type": "code",
      "source": [
        "print(response.text)"
      ],
      "metadata": {
        "colab": {
          "base_uri": "https://localhost:8080/"
        },
        "id": "ZByLHSf9hgeU",
        "outputId": "c1270511-6084-4180-ae0e-7b6637bea172"
      },
      "execution_count": 8,
      "outputs": [
        {
          "output_type": "stream",
          "name": "stdout",
          "text": [
            "```python\n",
            "def find_target_indices(nums, target):\n",
            "  \"\"\"\n",
            "  Given nums, an array of integers, and target, find all the possible pairs of indices,\n",
            "  where sum of numbers is equal to the target.\n",
            "\n",
            "  Args:\n",
            "    nums: List of integers.\n",
            "    target: Target sum.\n",
            "\n",
            "  Returns:\n",
            "    List of lists of indices.\n",
            "  \"\"\"\n",
            "\n",
            "  result = []\n",
            "  for i in range(len(nums)):\n",
            "    for j in range(i + 1, len(nums)):\n",
            "      if nums[i] + nums[j] == target:\n",
            "        result.append([i, j])\n",
            "  return result\n",
            "\n",
            "# Example:\n",
            "nums = [2, 7, 11, 15, 3]\n",
            "target = 9\n",
            "print(find_target_indices(nums, target))\n",
            "```\n"
          ]
        }
      ]
    },
    {
      "cell_type": "code",
      "source": [
        "import re\n",
        "\n",
        "def execute_extracted_code(text):\n",
        "    start_index = text.find(\"```\") + 3\n",
        "    end_index = text.rfind(\"```\")\n",
        "\n",
        "    extracted_text = text[start_index+7:end_index]\n",
        "    return extracted_text\n",
        "hello = execute_extracted_code(response.text)"
      ],
      "metadata": {
        "id": "2q7krQ59GFt8"
      },
      "execution_count": 9,
      "outputs": []
    },
    {
      "cell_type": "code",
      "source": [
        "print(hello)"
      ],
      "metadata": {
        "colab": {
          "base_uri": "https://localhost:8080/"
        },
        "id": "iunxnZDWQGJV",
        "outputId": "de4152b0-7a04-4087-d4a7-273b83ee8a52"
      },
      "execution_count": 10,
      "outputs": [
        {
          "output_type": "stream",
          "name": "stdout",
          "text": [
            "def find_target_indices(nums, target):\n",
            "  \"\"\"\n",
            "  Given nums, an array of integers, and target, find all the possible pairs of indices,\n",
            "  where sum of numbers is equal to the target.\n",
            "\n",
            "  Args:\n",
            "    nums: List of integers.\n",
            "    target: Target sum.\n",
            "\n",
            "  Returns:\n",
            "    List of lists of indices.\n",
            "  \"\"\"\n",
            "\n",
            "  result = []\n",
            "  for i in range(len(nums)):\n",
            "    for j in range(i + 1, len(nums)):\n",
            "      if nums[i] + nums[j] == target:\n",
            "        result.append([i, j])\n",
            "  return result\n",
            "\n",
            "# Example:\n",
            "nums = [2, 7, 11, 15, 3]\n",
            "target = 9\n",
            "print(find_target_indices(nums, target))\n",
            "\n"
          ]
        }
      ]
    },
    {
      "cell_type": "code",
      "source": [
        "exec(hello)"
      ],
      "metadata": {
        "colab": {
          "base_uri": "https://localhost:8080/"
        },
        "id": "XHBRx-OWQ0V4",
        "outputId": "6de4baaf-dc7b-4ee8-8798-844efad973ba"
      },
      "execution_count": 11,
      "outputs": [
        {
          "output_type": "stream",
          "name": "stdout",
          "text": [
            "[[0, 1]]\n"
          ]
        }
      ]
    },
    {
      "cell_type": "code",
      "source": [
        "def pair_sum(nums, target):\n",
        "    \"\"\"\n",
        "    Find indices of pairs in nums that sum to target.\n",
        "\n",
        "    Args:\n",
        "        nums: An array of integers.\n",
        "        target: The target sum.\n",
        "\n",
        "    Returns:\n",
        "        A list of pairs of indices that sum to target.\n",
        "    \"\"\"\n",
        "\n",
        "    result = []\n",
        "    for i in range(len(numsijvhcbib)):\n",
        "        for j in range(i + 1, len(nums)):\n",
        "            if nums[i] + nums[j] == target:\n",
        "              result.append([i, j])\n",
        "    return result\n",
        "\n",
        "try:\n",
        "      nums = [2, 7, 11, 15, 3]\n",
        "      target = 9\n",
        "      print(pair_sum(nums, target))  # [[1, 2], [3, 4]]\n",
        "except Exception as error:\n",
        "    error_message = f\"Error on line {error.__traceback__.tb_lineno}:\\n\"\n",
        "    error_message += f\"  Type: {type(error)}\\n\"\n",
        "    error_message += f\"  Message: {str(error)}\\n\"\n",
        "    print(error_message)\n"
      ],
      "metadata": {
        "colab": {
          "base_uri": "https://localhost:8080/"
        },
        "id": "iw6MzK5IRqDh",
        "outputId": "98c1216c-ae4a-4604-a9a6-7654f09398ef"
      },
      "execution_count": 12,
      "outputs": [
        {
          "output_type": "stream",
          "name": "stdout",
          "text": [
            "Error on line 23:\n",
            "  Type: <class 'NameError'>\n",
            "  Message: name 'numsijvhcbib' is not defined\n",
            "\n"
          ]
        }
      ]
    },
    {
      "cell_type": "code",
      "source": [
        "print(error_message)"
      ],
      "metadata": {
        "colab": {
          "base_uri": "https://localhost:8080/"
        },
        "id": "9GkRTsVHUMTE",
        "outputId": "1ce020bf-b443-437c-ff1b-542581a875ea"
      },
      "execution_count": 13,
      "outputs": [
        {
          "output_type": "stream",
          "name": "stdout",
          "text": [
            "Error on line 23:\n",
            "  Type: <class 'NameError'>\n",
            "  Message: name 'numsijvhcbib' is not defined\n",
            "\n"
          ]
        }
      ]
    },
    {
      "cell_type": "code",
      "source": [
        "code = '''\n",
        "def pair_sum(nums, target):\n",
        "    \"\"\"\n",
        "    Find indices of pairs in nums that sum to target.\n",
        "\n",
        "    Args:\n",
        "        nums: An array of integers.\n",
        "        target: The target sum.\n",
        "\n",
        "    Returns:\n",
        "        A list of pairs of indices that sum to target.\n",
        "    \"\"\"\n",
        "\n",
        "    result = []\n",
        "    for i in range(len(numsijvhcbib)):\n",
        "        for j in range(i + 1, len(nums)):\n",
        "            if nums[i] + nums[j] == target:\n",
        "              result.append([i, j])\n",
        "    return result\n",
        "    '''\n",
        "\n"
      ],
      "metadata": {
        "id": "8OJdnNVqWQQK"
      },
      "execution_count": 14,
      "outputs": []
    },
    {
      "cell_type": "code",
      "source": [
        "question = ''' You're a python engineer tasked with debugging the following Python code based on the error message provided.\n",
        "\n",
        "Provided code snippet\n",
        "code = \"\"\"\n",
        "{code}\n",
        "\"\"\"\n",
        "\n",
        "# Provided error message\n",
        "error_message = \"{error_message}\"\n",
        "\n",
        "# Debug the code to resolve the error message and return the corrected Python code.\n",
        "'''\n",
        "\n",
        "question_filled = question.format(code=code, error_message=error_message)\n",
        "print(question_filled)"
      ],
      "metadata": {
        "colab": {
          "base_uri": "https://localhost:8080/"
        },
        "id": "6vdMXG_lkhfb",
        "outputId": "43038e8d-7f1f-419c-9823-9c4d00ca4f9c"
      },
      "execution_count": 15,
      "outputs": [
        {
          "output_type": "stream",
          "name": "stdout",
          "text": [
            " You're a python engineer tasked with debugging the following Python code based on the error message provided.\n",
            "\n",
            "Provided code snippet\n",
            "code = \"\"\"\n",
            "  \n",
            "def pair_sum(nums, target):\n",
            "    \"\"\"\n",
            "    Find indices of pairs in nums that sum to target.\n",
            "\n",
            "    Args:\n",
            "        nums: An array of integers.\n",
            "        target: The target sum.\n",
            "\n",
            "    Returns:\n",
            "        A list of pairs of indices that sum to target.\n",
            "    \"\"\"\n",
            "\n",
            "    result = []\n",
            "    for i in range(len(numsijvhcbib)):\n",
            "        for j in range(i + 1, len(nums)):\n",
            "            if nums[i] + nums[j] == target:\n",
            "              result.append([i, j])\n",
            "    return result\n",
            "    \n",
            "\"\"\"\n",
            "\n",
            "# Provided error message\n",
            "error_message = \"Error on line 23:\n",
            "  Type: <class 'NameError'>\n",
            "  Message: name 'numsijvhcbib' is not defined\n",
            "\"\n",
            "\n",
            "# Debug the code to resolve the error message and return the corrected Python code.\n",
            "\n"
          ]
        }
      ]
    },
    {
      "cell_type": "code",
      "source": [
        "response = model.generate_content(question_filled)"
      ],
      "metadata": {
        "id": "sBBuZsDKWcX3"
      },
      "execution_count": 16,
      "outputs": []
    },
    {
      "cell_type": "code",
      "source": [
        "print(response.text)"
      ],
      "metadata": {
        "colab": {
          "base_uri": "https://localhost:8080/"
        },
        "id": "5jqDyXNVkn_V",
        "outputId": "9347148f-8e78-4041-d423-e50b40c4f585"
      },
      "execution_count": 17,
      "outputs": [
        {
          "output_type": "stream",
          "name": "stdout",
          "text": [
            "```\n",
            "def pair_sum(nums, target):\n",
            "    \"\"\"\n",
            "    Find indices of pairs in nums that sum to target.\n",
            "\n",
            "    Args:\n",
            "        nums: An array of integers.\n",
            "        target: The target sum.\n",
            "\n",
            "    Returns:\n",
            "        A list of pairs of indices that sum to target.\n",
            "    \"\"\"\n",
            "\n",
            "    result = []\n",
            "    for i in range(len(nums)):\n",
            "        for j in range(i + 1, len(nums)):\n",
            "            if nums[i] + nums[j] == target:\n",
            "                result.append([i, j])\n",
            "    return result\n",
            "```\n"
          ]
        }
      ]
    }
  ]
}
